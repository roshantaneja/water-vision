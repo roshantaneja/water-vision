{
 "cells": [
  {
   "cell_type": "code",
   "execution_count": null,
   "id": "initial_id",
   "metadata": {
    "collapsed": true
   },
   "outputs": [],
   "source": [
    "import json\n",
    "import datetime\n",
    "import ee"
   ]
  },
  {
   "cell_type": "code",
   "execution_count": null,
   "outputs": [],
   "source": [
    "#trigger auth\n",
    "ee.Authenticate()\n",
    "\n",
    "with (open('credentials.json')) as f:\n",
    "    credentials = json.load(f)\n",
    "\n",
    "ee.Initialize(project=credentials['project_id'])"
   ],
   "metadata": {
    "collapsed": false
   },
   "id": "1ed3e1b04b3b2c09"
  },
  {
   "cell_type": "code",
   "execution_count": null,
   "outputs": [],
   "source": [
    "#test if auth worked\n",
    "image = ee.Image('srtm90_v4')\n",
    "print(image.getInfo())"
   ],
   "metadata": {
    "collapsed": false
   },
   "id": "a896a491cdd40030"
  },
  {
   "cell_type": "code",
   "execution_count": null,
   "outputs": [],
   "source": [
    "\n",
    "\n",
    "geo = ee.Geometry.Point(6.4806, 50.8018)\n",
    "\n"
   ],
   "metadata": {
    "collapsed": false
   },
   "id": "bfc03adc72f5a30e"
  }
 ],
 "metadata": {
  "kernelspec": {
   "display_name": "Python 3",
   "language": "python",
   "name": "python3"
  },
  "language_info": {
   "codemirror_mode": {
    "name": "ipython",
    "version": 2
   },
   "file_extension": ".py",
   "mimetype": "text/x-python",
   "name": "python",
   "nbconvert_exporter": "python",
   "pygments_lexer": "ipython2",
   "version": "2.7.6"
  }
 },
 "nbformat": 4,
 "nbformat_minor": 5
}

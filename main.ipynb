{
 "cells": [
  {
   "cell_type": "code",
   "execution_count": 18,
   "id": "initial_id",
   "metadata": {
    "collapsed": true,
    "ExecuteTime": {
     "end_time": "2024-01-04T16:07:30.195914400Z",
     "start_time": "2024-01-04T16:07:30.188913600Z"
    }
   },
   "outputs": [
    {
     "data": {
      "text/plain": "<IPython.core.display.HTML object>",
      "text/html": "\n            <style>\n                .geemap-dark {\n                    --jp-widgets-color: white;\n                    --jp-widgets-label-color: white;\n                    --jp-ui-font-color1: white;\n                    --jp-layout-color2: #454545;\n                    background-color: #383838;\n                }\n                    \n                .geemap-dark .jupyter-button {\n                    --jp-layout-color3: #383838;\n                }\n                \n                .geemap-colab {\n                    background-color: var(--colab-primary-surface-color, white);\n                }\n                    \n                .geemap-colab .jupyter-button {\n                    --jp-layout-color3: var(--colab-primary-surface-color, white);\n                }\n            </style>\n            "
     },
     "metadata": {},
     "output_type": "display_data"
    }
   ],
   "source": [
    "import json\n",
    "import datetime\n",
    "import geemap\n",
    "import ee"
   ]
  },
  {
   "cell_type": "code",
   "execution_count": 19,
   "outputs": [
    {
     "data": {
      "text/plain": "<IPython.core.display.HTML object>",
      "text/html": "\n            <style>\n                .geemap-dark {\n                    --jp-widgets-color: white;\n                    --jp-widgets-label-color: white;\n                    --jp-ui-font-color1: white;\n                    --jp-layout-color2: #454545;\n                    background-color: #383838;\n                }\n                    \n                .geemap-dark .jupyter-button {\n                    --jp-layout-color3: #383838;\n                }\n                \n                .geemap-colab {\n                    background-color: var(--colab-primary-surface-color, white);\n                }\n                    \n                .geemap-colab .jupyter-button {\n                    --jp-layout-color3: var(--colab-primary-surface-color, white);\n                }\n            </style>\n            "
     },
     "metadata": {},
     "output_type": "display_data"
    }
   ],
   "source": [
    "#trigger auth\n",
    "ee.Authenticate()\n",
    "\n",
    "with (open('credentials.json')) as f:\n",
    "    credentials = json.load(f)\n",
    "\n",
    "ee.Initialize(project=credentials['project_id'])"
   ],
   "metadata": {
    "collapsed": false,
    "ExecuteTime": {
     "end_time": "2024-01-04T16:07:41.290841300Z",
     "start_time": "2024-01-04T16:07:31.203911Z"
    }
   },
   "id": "1ed3e1b04b3b2c09"
  },
  {
   "cell_type": "code",
   "execution_count": 20,
   "outputs": [
    {
     "data": {
      "text/plain": "<IPython.core.display.HTML object>",
      "text/html": "\n            <style>\n                .geemap-dark {\n                    --jp-widgets-color: white;\n                    --jp-widgets-label-color: white;\n                    --jp-ui-font-color1: white;\n                    --jp-layout-color2: #454545;\n                    background-color: #383838;\n                }\n                    \n                .geemap-dark .jupyter-button {\n                    --jp-layout-color3: #383838;\n                }\n                \n                .geemap-colab {\n                    background-color: var(--colab-primary-surface-color, white);\n                }\n                    \n                .geemap-colab .jupyter-button {\n                    --jp-layout-color3: var(--colab-primary-surface-color, white);\n                }\n            </style>\n            "
     },
     "metadata": {},
     "output_type": "display_data"
    },
    {
     "name": "stdout",
     "output_type": "stream",
     "text": [
      "{'type': 'Image', 'bands': [{'id': 'elevation', 'data_type': {'type': 'PixelType', 'precision': 'int', 'min': -32768, 'max': 32767}, 'dimensions': [432000, 144000], 'crs': 'EPSG:4326', 'crs_transform': [0.000833333333333, 0, -180, 0, -0.000833333333333, 60]}], 'version': 1494271934303000.0, 'id': 'srtm90_v4', 'properties': {'system:time_start': 950227200000, 'system:time_end': 951177600000, 'system:asset_size': 18827626666}}\n"
     ]
    }
   ],
   "source": [
    "#test if auth worked\n",
    "image = ee.Image('srtm90_v4')\n",
    "print(image.getInfo())"
   ],
   "metadata": {
    "collapsed": false,
    "ExecuteTime": {
     "end_time": "2024-01-04T16:07:41.478839900Z",
     "start_time": "2024-01-04T16:07:41.290841300Z"
    }
   },
   "id": "a896a491cdd40030"
  },
  {
   "cell_type": "code",
   "execution_count": null,
   "outputs": [],
   "source": [
    "ee_object = geemap.geojson_to_ee(\"map.geojson\")\n",
    "\n",
    "exportTask = ee.batch.Export.table.toAsset(\n",
    "    collection = ee_object,\n",
    "    description = 'map.geojson',\n",
    "    assetId = 'users/rytan/map1'\n",
    ")\n",
    "exportTask.start()\n",
    "while (exportTask.status()['state'] != 'COMPLETED'):\n",
    "    print(exportTask.status())"
   ],
   "metadata": {
    "collapsed": false
   },
   "id": "bfc03adc72f5a30e"
  }
 ],
 "metadata": {
  "kernelspec": {
   "display_name": "Python 3",
   "language": "python",
   "name": "python3"
  },
  "language_info": {
   "codemirror_mode": {
    "name": "ipython",
    "version": 2
   },
   "file_extension": ".py",
   "mimetype": "text/x-python",
   "name": "python",
   "nbconvert_exporter": "python",
   "pygments_lexer": "ipython2",
   "version": "2.7.6"
  }
 },
 "nbformat": 4,
 "nbformat_minor": 5
}

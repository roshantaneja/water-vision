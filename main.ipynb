{
 "cells": [
  {
   "cell_type": "code",
   "execution_count": 1,
   "id": "initial_id",
   "metadata": {
    "collapsed": true,
    "ExecuteTime": {
     "end_time": "2024-01-03T19:16:20.223898700Z",
     "start_time": "2024-01-03T19:16:17.815971900Z"
    }
   },
   "outputs": [],
   "source": [
    "import json\n",
    "import datetime\n",
    "import geemap\n",
    "import ee"
   ]
  },
  {
   "cell_type": "code",
   "execution_count": 3,
   "outputs": [
    {
     "data": {
      "text/plain": "<IPython.core.display.HTML object>",
      "text/html": "\n            <style>\n                .geemap-dark {\n                    --jp-widgets-color: white;\n                    --jp-widgets-label-color: white;\n                    --jp-ui-font-color1: white;\n                    --jp-layout-color2: #454545;\n                    background-color: #383838;\n                }\n                    \n                .geemap-dark .jupyter-button {\n                    --jp-layout-color3: #383838;\n                }\n                \n                .geemap-colab {\n                    background-color: var(--colab-primary-surface-color, white);\n                }\n                    \n                .geemap-colab .jupyter-button {\n                    --jp-layout-color3: var(--colab-primary-surface-color, white);\n                }\n            </style>\n            "
     },
     "metadata": {},
     "output_type": "display_data"
    },
    {
     "name": "stderr",
     "output_type": "stream",
     "text": [
      "C:\\Users\\yoshi\\Downloads\\water-vision\\venv\\lib\\site-packages\\google\\auth\\_default.py:76: UserWarning: Your application has authenticated using end user credentials from Google Cloud SDK without a quota project. You might receive a \"quota exceeded\" or \"API not enabled\" error. See the following page for troubleshooting: https://cloud.google.com/docs/authentication/adc-troubleshooting/user-creds. \n",
      "  warnings.warn(_CLOUD_SDK_CREDENTIALS_WARNING)\n"
     ]
    }
   ],
   "source": [
    "#trigger auth\n",
    "ee.Authenticate()\n",
    "\n",
    "with (open('credentials.json')) as f:\n",
    "    credentials = json.load(f)\n",
    "\n",
    "ee.Initialize(project=credentials['project_id'])"
   ],
   "metadata": {
    "collapsed": false,
    "ExecuteTime": {
     "end_time": "2024-01-03T19:16:40.109338300Z",
     "start_time": "2024-01-03T19:16:36.035426700Z"
    }
   },
   "id": "1ed3e1b04b3b2c09"
  },
  {
   "cell_type": "code",
   "execution_count": 8,
   "outputs": [
    {
     "data": {
      "text/plain": "<IPython.core.display.HTML object>",
      "text/html": "\n            <style>\n                .geemap-dark {\n                    --jp-widgets-color: white;\n                    --jp-widgets-label-color: white;\n                    --jp-ui-font-color1: white;\n                    --jp-layout-color2: #454545;\n                    background-color: #383838;\n                }\n                    \n                .geemap-dark .jupyter-button {\n                    --jp-layout-color3: #383838;\n                }\n                \n                .geemap-colab {\n                    background-color: var(--colab-primary-surface-color, white);\n                }\n                    \n                .geemap-colab .jupyter-button {\n                    --jp-layout-color3: var(--colab-primary-surface-color, white);\n                }\n            </style>\n            "
     },
     "metadata": {},
     "output_type": "display_data"
    },
    {
     "name": "stdout",
     "output_type": "stream",
     "text": [
      "EPSG:4326\n"
     ]
    }
   ],
   "source": [
    "#test if auth worked\n",
    "image = ee.Image('srtm90_v4')\n",
    "print(image.getInfo()['bands'][0]['crs'])"
   ],
   "metadata": {
    "collapsed": false,
    "ExecuteTime": {
     "end_time": "2024-01-03T19:17:13.407300400Z",
     "start_time": "2024-01-03T19:17:13.208304700Z"
    }
   },
   "id": "a896a491cdd40030"
  },
  {
   "cell_type": "code",
   "execution_count": 11,
   "outputs": [
    {
     "data": {
      "text/plain": "<IPython.core.display.HTML object>",
      "text/html": "\n            <style>\n                .geemap-dark {\n                    --jp-widgets-color: white;\n                    --jp-widgets-label-color: white;\n                    --jp-ui-font-color1: white;\n                    --jp-layout-color2: #454545;\n                    background-color: #383838;\n                }\n                    \n                .geemap-dark .jupyter-button {\n                    --jp-layout-color3: #383838;\n                }\n                \n                .geemap-colab {\n                    background-color: var(--colab-primary-surface-color, white);\n                }\n                    \n                .geemap-colab .jupyter-button {\n                    --jp-layout-color3: var(--colab-primary-surface-color, white);\n                }\n            </style>\n            "
     },
     "metadata": {},
     "output_type": "display_data"
    }
   ],
   "source": [
    "ee_object = geemap.geojson_to_ee(\"map.geojson\")\n",
    "\n",
    "exportTask = ee.batch.Export.table.toAsset(\n",
    "    collection = ee_object,\n",
    "    description = 'map.geojson',\n",
    "    assetId = 'users/rytan/map1'\n",
    ")\n",
    "exportTask.start()"
   ],
   "metadata": {
    "collapsed": false,
    "ExecuteTime": {
     "end_time": "2024-01-03T19:19:54.506711400Z",
     "start_time": "2024-01-03T19:19:54.026726500Z"
    }
   },
   "id": "bfc03adc72f5a30e"
  },
  {
   "cell_type": "code",
   "outputs": [
    {
     "data": {
      "text/plain": "<IPython.core.display.HTML object>",
      "text/html": "\n            <style>\n                .geemap-dark {\n                    --jp-widgets-color: white;\n                    --jp-widgets-label-color: white;\n                    --jp-ui-font-color1: white;\n                    --jp-layout-color2: #454545;\n                    background-color: #383838;\n                }\n                    \n                .geemap-dark .jupyter-button {\n                    --jp-layout-color3: #383838;\n                }\n                \n                .geemap-colab {\n                    background-color: var(--colab-primary-surface-color, white);\n                }\n                    \n                .geemap-colab .jupyter-button {\n                    --jp-layout-color3: var(--colab-primary-surface-color, white);\n                }\n            </style>\n            "
     },
     "metadata": {},
     "output_type": "display_data"
    },
    {
     "ename": "EEException",
     "evalue": "Image.load: Image asset 'users/rytan/map1' not found (does not exist or caller does not have access).",
     "output_type": "error",
     "traceback": [
      "\u001B[1;31m---------------------------------------------------------------------------\u001B[0m",
      "\u001B[1;31mHttpError\u001B[0m                                 Traceback (most recent call last)",
      "File \u001B[1;32m~\\Downloads\\water-vision\\venv\\lib\\site-packages\\ee\\data.py:383\u001B[0m, in \u001B[0;36m_execute_cloud_call\u001B[1;34m(call, num_retries)\u001B[0m\n\u001B[0;32m    382\u001B[0m \u001B[38;5;28;01mtry\u001B[39;00m:\n\u001B[1;32m--> 383\u001B[0m   \u001B[38;5;28;01mreturn\u001B[39;00m \u001B[43mcall\u001B[49m\u001B[38;5;241;43m.\u001B[39;49m\u001B[43mexecute\u001B[49m\u001B[43m(\u001B[49m\u001B[43mnum_retries\u001B[49m\u001B[38;5;241;43m=\u001B[39;49m\u001B[43mnum_retries\u001B[49m\u001B[43m)\u001B[49m\n\u001B[0;32m    384\u001B[0m \u001B[38;5;28;01mexcept\u001B[39;00m googleapiclient\u001B[38;5;241m.\u001B[39merrors\u001B[38;5;241m.\u001B[39mHttpError \u001B[38;5;28;01mas\u001B[39;00m e:\n",
      "File \u001B[1;32m~\\Downloads\\water-vision\\venv\\lib\\site-packages\\googleapiclient\\_helpers.py:130\u001B[0m, in \u001B[0;36mpositional.<locals>.positional_decorator.<locals>.positional_wrapper\u001B[1;34m(*args, **kwargs)\u001B[0m\n\u001B[0;32m    129\u001B[0m         logger\u001B[38;5;241m.\u001B[39mwarning(message)\n\u001B[1;32m--> 130\u001B[0m \u001B[38;5;28;01mreturn\u001B[39;00m wrapped(\u001B[38;5;241m*\u001B[39margs, \u001B[38;5;241m*\u001B[39m\u001B[38;5;241m*\u001B[39mkwargs)\n",
      "File \u001B[1;32m~\\Downloads\\water-vision\\venv\\lib\\site-packages\\googleapiclient\\http.py:938\u001B[0m, in \u001B[0;36mHttpRequest.execute\u001B[1;34m(self, http, num_retries)\u001B[0m\n\u001B[0;32m    937\u001B[0m \u001B[38;5;28;01mif\u001B[39;00m resp\u001B[38;5;241m.\u001B[39mstatus \u001B[38;5;241m>\u001B[39m\u001B[38;5;241m=\u001B[39m \u001B[38;5;241m300\u001B[39m:\n\u001B[1;32m--> 938\u001B[0m     \u001B[38;5;28;01mraise\u001B[39;00m HttpError(resp, content, uri\u001B[38;5;241m=\u001B[39m\u001B[38;5;28mself\u001B[39m\u001B[38;5;241m.\u001B[39muri)\n\u001B[0;32m    939\u001B[0m \u001B[38;5;28;01mreturn\u001B[39;00m \u001B[38;5;28mself\u001B[39m\u001B[38;5;241m.\u001B[39mpostproc(resp, content)\n",
      "\u001B[1;31mHttpError\u001B[0m: <HttpError 400 when requesting https://earthengine.googleapis.com/v1/projects/ee-rytaneja/value:compute?prettyPrint=false&alt=json returned \"Image.load: Image asset 'users/rytan/map1' not found (does not exist or caller does not have access).\". Details: \"Image.load: Image asset 'users/rytan/map1' not found (does not exist or caller does not have access).\">",
      "\nDuring handling of the above exception, another exception occurred:\n",
      "\u001B[1;31mEEException\u001B[0m                               Traceback (most recent call last)",
      "Cell \u001B[1;32mIn[14], line 3\u001B[0m\n\u001B[0;32m      1\u001B[0m image \u001B[38;5;241m=\u001B[39m ee\u001B[38;5;241m.\u001B[39mImage(\u001B[38;5;124m'\u001B[39m\u001B[38;5;124musers/rytan/map1\u001B[39m\u001B[38;5;124m'\u001B[39m)\n\u001B[1;32m----> 3\u001B[0m \u001B[38;5;28mprint\u001B[39m(\u001B[43mimage\u001B[49m\u001B[38;5;241;43m.\u001B[39;49m\u001B[43mgetInfo\u001B[49m\u001B[43m(\u001B[49m\u001B[43m)\u001B[49m)\n",
      "File \u001B[1;32m~\\Downloads\\water-vision\\venv\\lib\\site-packages\\ee\\image.py:117\u001B[0m, in \u001B[0;36mImage.getInfo\u001B[1;34m(self)\u001B[0m\n\u001B[0;32m    109\u001B[0m \u001B[38;5;28;01mdef\u001B[39;00m \u001B[38;5;21mgetInfo\u001B[39m(\u001B[38;5;28mself\u001B[39m) \u001B[38;5;241m-\u001B[39m\u001B[38;5;241m>\u001B[39m Optional[Any]:\n\u001B[0;32m    110\u001B[0m \u001B[38;5;250m  \u001B[39m\u001B[38;5;124;03m\"\"\"Fetch and return information about this image.\u001B[39;00m\n\u001B[0;32m    111\u001B[0m \n\u001B[0;32m    112\u001B[0m \u001B[38;5;124;03m  Returns:\u001B[39;00m\n\u001B[1;32m   (...)\u001B[0m\n\u001B[0;32m    115\u001B[0m \u001B[38;5;124;03m        properties - Dictionary containing the image's metadata properties.\u001B[39;00m\n\u001B[0;32m    116\u001B[0m \u001B[38;5;124;03m  \"\"\"\u001B[39;00m\n\u001B[1;32m--> 117\u001B[0m   \u001B[38;5;28;01mreturn\u001B[39;00m \u001B[38;5;28;43msuper\u001B[39;49m\u001B[43m(\u001B[49m\u001B[43m)\u001B[49m\u001B[38;5;241;43m.\u001B[39;49m\u001B[43mgetInfo\u001B[49m\u001B[43m(\u001B[49m\u001B[43m)\u001B[49m\n",
      "File \u001B[1;32m~\\Downloads\\water-vision\\venv\\lib\\site-packages\\ee\\computedobject.py:108\u001B[0m, in \u001B[0;36mComputedObject.getInfo\u001B[1;34m(self)\u001B[0m\n\u001B[0;32m    102\u001B[0m \u001B[38;5;28;01mdef\u001B[39;00m \u001B[38;5;21mgetInfo\u001B[39m(\u001B[38;5;28mself\u001B[39m) \u001B[38;5;241m-\u001B[39m\u001B[38;5;241m>\u001B[39m Optional[Any]:\n\u001B[0;32m    103\u001B[0m \u001B[38;5;250m  \u001B[39m\u001B[38;5;124;03m\"\"\"Fetch and return information about this object.\u001B[39;00m\n\u001B[0;32m    104\u001B[0m \n\u001B[0;32m    105\u001B[0m \u001B[38;5;124;03m  Returns:\u001B[39;00m\n\u001B[0;32m    106\u001B[0m \u001B[38;5;124;03m    The object can evaluate to anything.\u001B[39;00m\n\u001B[0;32m    107\u001B[0m \u001B[38;5;124;03m  \"\"\"\u001B[39;00m\n\u001B[1;32m--> 108\u001B[0m   \u001B[38;5;28;01mreturn\u001B[39;00m \u001B[43mdata\u001B[49m\u001B[38;5;241;43m.\u001B[39;49m\u001B[43mcomputeValue\u001B[49m\u001B[43m(\u001B[49m\u001B[38;5;28;43mself\u001B[39;49m\u001B[43m)\u001B[49m\n",
      "File \u001B[1;32m~\\Downloads\\water-vision\\venv\\lib\\site-packages\\ee\\data.py:1082\u001B[0m, in \u001B[0;36mcomputeValue\u001B[1;34m(obj)\u001B[0m\n\u001B[0;32m   1079\u001B[0m body \u001B[38;5;241m=\u001B[39m {\u001B[38;5;124m'\u001B[39m\u001B[38;5;124mexpression\u001B[39m\u001B[38;5;124m'\u001B[39m: serializer\u001B[38;5;241m.\u001B[39mencode(obj, for_cloud_api\u001B[38;5;241m=\u001B[39m\u001B[38;5;28;01mTrue\u001B[39;00m)}\n\u001B[0;32m   1080\u001B[0m _maybe_populate_workload_tag(body)\n\u001B[1;32m-> 1082\u001B[0m \u001B[38;5;28;01mreturn\u001B[39;00m \u001B[43m_execute_cloud_call\u001B[49m\u001B[43m(\u001B[49m\n\u001B[0;32m   1083\u001B[0m \u001B[43m    \u001B[49m\u001B[43m_get_cloud_projects\u001B[49m\u001B[43m(\u001B[49m\u001B[43m)\u001B[49m\n\u001B[0;32m   1084\u001B[0m \u001B[43m    \u001B[49m\u001B[38;5;241;43m.\u001B[39;49m\u001B[43mvalue\u001B[49m\u001B[43m(\u001B[49m\u001B[43m)\u001B[49m\n\u001B[0;32m   1085\u001B[0m \u001B[43m    \u001B[49m\u001B[38;5;241;43m.\u001B[39;49m\u001B[43mcompute\u001B[49m\u001B[43m(\u001B[49m\u001B[43mbody\u001B[49m\u001B[38;5;241;43m=\u001B[39;49m\u001B[43mbody\u001B[49m\u001B[43m,\u001B[49m\u001B[43m \u001B[49m\u001B[43mproject\u001B[49m\u001B[38;5;241;43m=\u001B[39;49m\u001B[43m_get_projects_path\u001B[49m\u001B[43m(\u001B[49m\u001B[43m)\u001B[49m\u001B[43m,\u001B[49m\u001B[43m \u001B[49m\u001B[43mprettyPrint\u001B[49m\u001B[38;5;241;43m=\u001B[39;49m\u001B[38;5;28;43;01mFalse\u001B[39;49;00m\u001B[43m)\u001B[49m\n\u001B[0;32m   1086\u001B[0m \u001B[43m\u001B[49m\u001B[43m)\u001B[49m[\u001B[38;5;124m'\u001B[39m\u001B[38;5;124mresult\u001B[39m\u001B[38;5;124m'\u001B[39m]\n",
      "File \u001B[1;32m~\\Downloads\\water-vision\\venv\\lib\\site-packages\\ee\\data.py:385\u001B[0m, in \u001B[0;36m_execute_cloud_call\u001B[1;34m(call, num_retries)\u001B[0m\n\u001B[0;32m    383\u001B[0m   \u001B[38;5;28;01mreturn\u001B[39;00m call\u001B[38;5;241m.\u001B[39mexecute(num_retries\u001B[38;5;241m=\u001B[39mnum_retries)\n\u001B[0;32m    384\u001B[0m \u001B[38;5;28;01mexcept\u001B[39;00m googleapiclient\u001B[38;5;241m.\u001B[39merrors\u001B[38;5;241m.\u001B[39mHttpError \u001B[38;5;28;01mas\u001B[39;00m e:\n\u001B[1;32m--> 385\u001B[0m   \u001B[38;5;28;01mraise\u001B[39;00m _translate_cloud_exception(e)\n",
      "\u001B[1;31mEEException\u001B[0m: Image.load: Image asset 'users/rytan/map1' not found (does not exist or caller does not have access)."
     ]
    }
   ],
   "source": [
    "image = ee.Image('users/rytan/map1')\n",
    "\n",
    "print(image.getInfo())"
   ],
   "metadata": {
    "collapsed": false,
    "ExecuteTime": {
     "end_time": "2024-01-03T19:20:49.387058800Z",
     "start_time": "2024-01-03T19:20:49.008071900Z"
    }
   },
   "id": "38e074846dbed7fa",
   "execution_count": 14
  },
  {
   "cell_type": "code",
   "outputs": [],
   "source": [],
   "metadata": {
    "collapsed": false
   },
   "id": "f97f29ce0fc3a43f"
  }
 ],
 "metadata": {
  "kernelspec": {
   "display_name": "Python 3",
   "language": "python",
   "name": "python3"
  },
  "language_info": {
   "codemirror_mode": {
    "name": "ipython",
    "version": 2
   },
   "file_extension": ".py",
   "mimetype": "text/x-python",
   "name": "python",
   "nbconvert_exporter": "python",
   "pygments_lexer": "ipython2",
   "version": "2.7.6"
  }
 },
 "nbformat": 4,
 "nbformat_minor": 5
}
